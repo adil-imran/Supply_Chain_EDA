{
 "cells": [
  {
   "cell_type": "code",
   "execution_count": 2,
   "id": "3e9a6f2a-79b2-4e94-aa16-359b378b7a92",
   "metadata": {},
   "outputs": [],
   "source": [
    "import dask\n",
    "import dask.dataframe as dd\n",
    "import pandas as pd\n",
    "import matplotlib.pyplot as plt\n",
    "import os\n",
    "import glob\n",
    "%matplotlib inline"
   ]
  },
  {
   "cell_type": "code",
   "execution_count": 7,
   "id": "8e32b301-79fb-4a33-a380-9b9e28725c47",
   "metadata": {},
   "outputs": [
    {
     "name": "stdout",
     "output_type": "stream",
     "text": [
      "CPU times: user 0 ns, sys: 15.6 ms, total: 15.6 ms\n",
      "Wall time: 25.6 ms\n"
     ]
    }
   ],
   "source": [
    "%%time\n",
    "pd_data=pd.read_csv(\"data/full_date.csv\")"
   ]
  },
  {
   "cell_type": "code",
   "execution_count": 107,
   "id": "2b76d3c3-3767-4e9e-a8f1-d4f614f54d8f",
   "metadata": {},
   "outputs": [
    {
     "data": {
      "text/html": [
       "<div>\n",
       "<style scoped>\n",
       "    .dataframe tbody tr th:only-of-type {\n",
       "        vertical-align: middle;\n",
       "    }\n",
       "\n",
       "    .dataframe tbody tr th {\n",
       "        vertical-align: top;\n",
       "    }\n",
       "\n",
       "    .dataframe thead th {\n",
       "        text-align: right;\n",
       "    }\n",
       "</style>\n",
       "<table border=\"1\" class=\"dataframe\">\n",
       "  <thead>\n",
       "    <tr style=\"text-align: right;\">\n",
       "      <th></th>\n",
       "      <th>data_date</th>\n",
       "    </tr>\n",
       "  </thead>\n",
       "  <tbody>\n",
       "    <tr>\n",
       "      <th>0</th>\n",
       "      <td>2017.3.1</td>\n",
       "    </tr>\n",
       "    <tr>\n",
       "      <th>1</th>\n",
       "      <td>2017.3.2</td>\n",
       "    </tr>\n",
       "    <tr>\n",
       "      <th>2</th>\n",
       "      <td>2017.3.3</td>\n",
       "    </tr>\n",
       "    <tr>\n",
       "      <th>3</th>\n",
       "      <td>2017.3.4</td>\n",
       "    </tr>\n",
       "    <tr>\n",
       "      <th>4</th>\n",
       "      <td>2017.3.5</td>\n",
       "    </tr>\n",
       "  </tbody>\n",
       "</table>\n",
       "</div>"
      ],
      "text/plain": [
       "  data_date\n",
       "0  2017.3.1\n",
       "1  2017.3.2\n",
       "2  2017.3.3\n",
       "3  2017.3.4\n",
       "4  2017.3.5"
      ]
     },
     "execution_count": 107,
     "metadata": {},
     "output_type": "execute_result"
    }
   ],
   "source": [
    "pd_data.head(5)"
   ]
  },
  {
   "cell_type": "code",
   "execution_count": 3,
   "id": "7f411162-e601-4172-9ff8-7769c4be4541",
   "metadata": {},
   "outputs": [
    {
     "name": "stdout",
     "output_type": "stream",
     "text": [
      "CPU times: user 15.6 ms, sys: 15.6 ms, total: 31.2 ms\n",
      "Wall time: 31.3 ms\n"
     ]
    }
   ],
   "source": [
    "%%time\n",
    "full_date=dd.read_csv(\"data/full_date.csv\")"
   ]
  },
  {
   "cell_type": "code",
   "execution_count": 4,
   "id": "7ee92d0b-709e-47b9-9ac4-b09f32108d29",
   "metadata": {},
   "outputs": [],
   "source": [
    "full_date[\"data_date\"] = dd.to_datetime(full_date.data_date)"
   ]
  },
  {
   "cell_type": "code",
   "execution_count": 5,
   "id": "56e8e456-07d6-4e32-ba27-abcd527ddd6d",
   "metadata": {},
   "outputs": [
    {
     "data": {
      "text/html": [
       "<div>\n",
       "<style scoped>\n",
       "    .dataframe tbody tr th:only-of-type {\n",
       "        vertical-align: middle;\n",
       "    }\n",
       "\n",
       "    .dataframe tbody tr th {\n",
       "        vertical-align: top;\n",
       "    }\n",
       "\n",
       "    .dataframe thead th {\n",
       "        text-align: right;\n",
       "    }\n",
       "</style>\n",
       "<table border=\"1\" class=\"dataframe\">\n",
       "  <thead>\n",
       "    <tr style=\"text-align: right;\">\n",
       "      <th></th>\n",
       "      <th>data_date</th>\n",
       "    </tr>\n",
       "  </thead>\n",
       "  <tbody>\n",
       "    <tr>\n",
       "      <th>0</th>\n",
       "      <td>2017-03-01</td>\n",
       "    </tr>\n",
       "    <tr>\n",
       "      <th>1</th>\n",
       "      <td>2017-03-02</td>\n",
       "    </tr>\n",
       "    <tr>\n",
       "      <th>2</th>\n",
       "      <td>2017-03-03</td>\n",
       "    </tr>\n",
       "    <tr>\n",
       "      <th>3</th>\n",
       "      <td>2017-03-04</td>\n",
       "    </tr>\n",
       "    <tr>\n",
       "      <th>4</th>\n",
       "      <td>2017-03-05</td>\n",
       "    </tr>\n",
       "    <tr>\n",
       "      <th>...</th>\n",
       "      <td>...</td>\n",
       "    </tr>\n",
       "    <tr>\n",
       "      <th>376</th>\n",
       "      <td>2018-03-12</td>\n",
       "    </tr>\n",
       "    <tr>\n",
       "      <th>377</th>\n",
       "      <td>2018-03-13</td>\n",
       "    </tr>\n",
       "    <tr>\n",
       "      <th>378</th>\n",
       "      <td>2018-03-14</td>\n",
       "    </tr>\n",
       "    <tr>\n",
       "      <th>379</th>\n",
       "      <td>2018-03-15</td>\n",
       "    </tr>\n",
       "    <tr>\n",
       "      <th>380</th>\n",
       "      <td>2018-03-16</td>\n",
       "    </tr>\n",
       "  </tbody>\n",
       "</table>\n",
       "<p>381 rows × 1 columns</p>\n",
       "</div>"
      ],
      "text/plain": [
       "     data_date\n",
       "0   2017-03-01\n",
       "1   2017-03-02\n",
       "2   2017-03-03\n",
       "3   2017-03-04\n",
       "4   2017-03-05\n",
       "..         ...\n",
       "376 2018-03-12\n",
       "377 2018-03-13\n",
       "378 2018-03-14\n",
       "379 2018-03-15\n",
       "380 2018-03-16\n",
       "\n",
       "[381 rows x 1 columns]"
      ]
     },
     "execution_count": 5,
     "metadata": {},
     "output_type": "execute_result"
    }
   ],
   "source": [
    "full_date.compute()"
   ]
  },
  {
   "cell_type": "code",
   "execution_count": 116,
   "id": "2b02e9d6-e2eb-4aa0-b6b0-d3861b302ccc",
   "metadata": {},
   "outputs": [
    {
     "name": "stdout",
     "output_type": "stream",
     "text": [
      "<class 'pandas.core.frame.DataFrame'>\n",
      "RangeIndex: 381 entries, 0 to 380\n",
      "Data columns (total 1 columns):\n",
      " #   Column     Non-Null Count  Dtype         \n",
      "---  ------     --------------  -----         \n",
      " 0   data_date  381 non-null    datetime64[ns]\n",
      "dtypes: datetime64[ns](1)\n",
      "memory usage: 3.1 KB\n"
     ]
    }
   ],
   "source": [
    "full_date.compute().info()"
   ]
  },
  {
   "cell_type": "code",
   "execution_count": 13,
   "id": "39365408-554e-4ecb-bb60-9e22f762cf0a",
   "metadata": {},
   "outputs": [
    {
     "data": {
      "text/plain": [
       "['full_date.csv',\n",
       " 'goodsale.csv',\n",
       " 'goodsdaily.csv',\n",
       " 'goodsinfo.csv',\n",
       " 'goods_promote_price.csv',\n",
       " 'goods_sku_relation.csv',\n",
       " 'marketing.csv',\n",
       " 'submit_example.csv']"
      ]
     },
     "execution_count": 13,
     "metadata": {},
     "output_type": "execute_result"
    }
   ],
   "source": [
    "os.listdir(\"data/\")"
   ]
  },
  {
   "cell_type": "code",
   "execution_count": 14,
   "id": "bdeb2ac9-3589-4d1c-b7fe-193f11d3be87",
   "metadata": {},
   "outputs": [],
   "source": [
    "from glob import glob\n",
    "filenames=sorted(glob(os.path.join(\"data\",\"*.csv\")))"
   ]
  },
  {
   "cell_type": "code",
   "execution_count": 15,
   "id": "6ff3f15c-a7f0-4a77-98ba-a6936a66910e",
   "metadata": {},
   "outputs": [
    {
     "data": {
      "text/plain": [
       "['data/full_date.csv',\n",
       " 'data/goods_promote_price.csv',\n",
       " 'data/goods_sku_relation.csv',\n",
       " 'data/goodsale.csv',\n",
       " 'data/goodsdaily.csv',\n",
       " 'data/goodsinfo.csv',\n",
       " 'data/marketing.csv',\n",
       " 'data/submit_example.csv']"
      ]
     },
     "execution_count": 15,
     "metadata": {},
     "output_type": "execute_result"
    }
   ],
   "source": [
    "filenames"
   ]
  },
  {
   "cell_type": "code",
   "execution_count": 6,
   "id": "ed1ddaea-918d-4669-b75b-0fc5e82aa4fc",
   "metadata": {},
   "outputs": [
    {
     "name": "stdout",
     "output_type": "stream",
     "text": [
      "CPU times: user 31.2 ms, sys: 0 ns, total: 31.2 ms\n",
      "Wall time: 32 ms\n"
     ]
    }
   ],
   "source": [
    "%%time\n",
    "promote_goods=dd.read_csv(\"data/goods_promote_price.csv\", dtype=\"unicode\")"
   ]
  },
  {
   "cell_type": "code",
   "execution_count": 7,
   "id": "97b7ab9f-7777-46a6-acb9-cefd5158b208",
   "metadata": {},
   "outputs": [],
   "source": [
    "promote_goods[\"data_date\"] = dd.to_datetime(promote_goods.data_date)"
   ]
  },
  {
   "cell_type": "code",
   "execution_count": 8,
   "id": "23415752-98cd-4fbb-b006-61c5a3cbde58",
   "metadata": {},
   "outputs": [
    {
     "data": {
      "text/html": [
       "<div>\n",
       "<style scoped>\n",
       "    .dataframe tbody tr th:only-of-type {\n",
       "        vertical-align: middle;\n",
       "    }\n",
       "\n",
       "    .dataframe tbody tr th {\n",
       "        vertical-align: top;\n",
       "    }\n",
       "\n",
       "    .dataframe thead th {\n",
       "        text-align: right;\n",
       "    }\n",
       "</style>\n",
       "<table border=\"1\" class=\"dataframe\">\n",
       "  <thead>\n",
       "    <tr style=\"text-align: right;\">\n",
       "      <th></th>\n",
       "      <th>data_date</th>\n",
       "      <th>goods_id</th>\n",
       "      <th>shop_price</th>\n",
       "      <th>promote_price</th>\n",
       "      <th>promote_start_time</th>\n",
       "      <th>promote_end_time</th>\n",
       "    </tr>\n",
       "  </thead>\n",
       "  <tbody>\n",
       "    <tr>\n",
       "      <th>0</th>\n",
       "      <td>2018-01-29</td>\n",
       "      <td>GBLrYn</td>\n",
       "      <td>289</td>\n",
       "      <td>0</td>\n",
       "      <td>1970.1.1 08:00</td>\n",
       "      <td>1970.1.1 08:00</td>\n",
       "    </tr>\n",
       "    <tr>\n",
       "      <th>1</th>\n",
       "      <td>2018-01-29</td>\n",
       "      <td>GfrkEb</td>\n",
       "      <td>17.99</td>\n",
       "      <td>0</td>\n",
       "      <td>1970.1.1 08:00</td>\n",
       "      <td>1970.1.1 08:00</td>\n",
       "    </tr>\n",
       "    <tr>\n",
       "      <th>2</th>\n",
       "      <td>2018-01-29</td>\n",
       "      <td>GD8pMl</td>\n",
       "      <td>412</td>\n",
       "      <td>0</td>\n",
       "      <td>1970.1.1 08:00</td>\n",
       "      <td>1970.1.1 08:00</td>\n",
       "    </tr>\n",
       "    <tr>\n",
       "      <th>3</th>\n",
       "      <td>2018-01-29</td>\n",
       "      <td>Gfid4P</td>\n",
       "      <td>87</td>\n",
       "      <td>0</td>\n",
       "      <td>1970.1.1 08:00</td>\n",
       "      <td>1970.1.1 08:00</td>\n",
       "    </tr>\n",
       "    <tr>\n",
       "      <th>4</th>\n",
       "      <td>2018-01-29</td>\n",
       "      <td>Gzjk0i</td>\n",
       "      <td>43.99</td>\n",
       "      <td>0</td>\n",
       "      <td>1970.1.1 08:00</td>\n",
       "      <td>1970.1.1 08:00</td>\n",
       "    </tr>\n",
       "    <tr>\n",
       "      <th>...</th>\n",
       "      <td>...</td>\n",
       "      <td>...</td>\n",
       "      <td>...</td>\n",
       "      <td>...</td>\n",
       "      <td>...</td>\n",
       "      <td>...</td>\n",
       "    </tr>\n",
       "    <tr>\n",
       "      <th>1048570</th>\n",
       "      <td>2018-03-07</td>\n",
       "      <td>GhltHS</td>\n",
       "      <td>10.99</td>\n",
       "      <td>0</td>\n",
       "      <td>1970.1.1 08:00</td>\n",
       "      <td>1970.1.1 08:00</td>\n",
       "    </tr>\n",
       "    <tr>\n",
       "      <th>1048571</th>\n",
       "      <td>2018-03-07</td>\n",
       "      <td>GGUjIf</td>\n",
       "      <td>16.99</td>\n",
       "      <td>6.99</td>\n",
       "      <td>2017.12.28 10:00</td>\n",
       "      <td>2018.3.28 18:00</td>\n",
       "    </tr>\n",
       "    <tr>\n",
       "      <th>1048572</th>\n",
       "      <td>2018-03-07</td>\n",
       "      <td>GS3sLX</td>\n",
       "      <td>191</td>\n",
       "      <td>172</td>\n",
       "      <td>2018.3.1 19:00</td>\n",
       "      <td>2018.3.9 18:00</td>\n",
       "    </tr>\n",
       "    <tr>\n",
       "      <th>1048573</th>\n",
       "      <td>2018-03-07</td>\n",
       "      <td>G52r6v</td>\n",
       "      <td>13.99</td>\n",
       "      <td>0</td>\n",
       "      <td>1970.1.1 08:00</td>\n",
       "      <td>1970.1.1 08:00</td>\n",
       "    </tr>\n",
       "    <tr>\n",
       "      <th>1048574</th>\n",
       "      <td>2018-03-07</td>\n",
       "      <td>GXKQfU</td>\n",
       "      <td>216</td>\n",
       "      <td>194</td>\n",
       "      <td>2018.3.1 19:00</td>\n",
       "      <td>2018.3.9 18:00</td>\n",
       "    </tr>\n",
       "  </tbody>\n",
       "</table>\n",
       "<p>1048575 rows × 6 columns</p>\n",
       "</div>"
      ],
      "text/plain": [
       "         data_date goods_id shop_price promote_price promote_start_time  \\\n",
       "0       2018-01-29   GBLrYn        289             0     1970.1.1 08:00   \n",
       "1       2018-01-29   GfrkEb      17.99             0     1970.1.1 08:00   \n",
       "2       2018-01-29   GD8pMl        412             0     1970.1.1 08:00   \n",
       "3       2018-01-29   Gfid4P         87             0     1970.1.1 08:00   \n",
       "4       2018-01-29   Gzjk0i      43.99             0     1970.1.1 08:00   \n",
       "...            ...      ...        ...           ...                ...   \n",
       "1048570 2018-03-07   GhltHS      10.99             0     1970.1.1 08:00   \n",
       "1048571 2018-03-07   GGUjIf      16.99          6.99   2017.12.28 10:00   \n",
       "1048572 2018-03-07   GS3sLX        191           172     2018.3.1 19:00   \n",
       "1048573 2018-03-07   G52r6v      13.99             0     1970.1.1 08:00   \n",
       "1048574 2018-03-07   GXKQfU        216           194     2018.3.1 19:00   \n",
       "\n",
       "        promote_end_time  \n",
       "0         1970.1.1 08:00  \n",
       "1         1970.1.1 08:00  \n",
       "2         1970.1.1 08:00  \n",
       "3         1970.1.1 08:00  \n",
       "4         1970.1.1 08:00  \n",
       "...                  ...  \n",
       "1048570   1970.1.1 08:00  \n",
       "1048571  2018.3.28 18:00  \n",
       "1048572   2018.3.9 18:00  \n",
       "1048573   1970.1.1 08:00  \n",
       "1048574   2018.3.9 18:00  \n",
       "\n",
       "[1048575 rows x 6 columns]"
      ]
     },
     "execution_count": 8,
     "metadata": {},
     "output_type": "execute_result"
    }
   ],
   "source": [
    "promote_goods.compute()"
   ]
  },
  {
   "cell_type": "code",
   "execution_count": null,
   "id": "534d87b9-79e7-4606-bd34-eed7d55d481c",
   "metadata": {},
   "outputs": [],
   "source": []
  },
  {
   "cell_type": "code",
   "execution_count": 23,
   "id": "9ee38f0b-1cd3-459b-9a24-13fd7d9fa581",
   "metadata": {},
   "outputs": [
    {
     "name": "stdout",
     "output_type": "stream",
     "text": [
      "CPU times: user 15.6 ms, sys: 0 ns, total: 15.6 ms\n",
      "Wall time: 27.5 ms\n"
     ]
    }
   ],
   "source": [
    "%%time\n",
    "sku_relation=dd.read_csv(\"data/goods_sku_relation.csv\")"
   ]
  },
  {
   "cell_type": "code",
   "execution_count": 31,
   "id": "2cd42f65-e04b-40df-9291-716b3f1ef35d",
   "metadata": {},
   "outputs": [
    {
     "data": {
      "text/plain": [
       "(3245170, 2)"
      ]
     },
     "execution_count": 31,
     "metadata": {},
     "output_type": "execute_result"
    }
   ],
   "source": [
    "sku_relation.compute().shape"
   ]
  },
  {
   "cell_type": "code",
   "execution_count": 29,
   "id": "d63c7b2c-aa33-473c-b24c-c8723d532d6e",
   "metadata": {},
   "outputs": [
    {
     "data": {
      "text/plain": [
       "sku_id      object\n",
       "goods_id    object\n",
       "dtype: object"
      ]
     },
     "execution_count": 29,
     "metadata": {},
     "output_type": "execute_result"
    }
   ],
   "source": [
    "sku_relation.dtypes"
   ]
  },
  {
   "cell_type": "code",
   "execution_count": 25,
   "id": "8fbec522-5290-403c-920e-0360af614387",
   "metadata": {},
   "outputs": [
    {
     "data": {
      "text/html": [
       "<div>\n",
       "<style scoped>\n",
       "    .dataframe tbody tr th:only-of-type {\n",
       "        vertical-align: middle;\n",
       "    }\n",
       "\n",
       "    .dataframe tbody tr th {\n",
       "        vertical-align: top;\n",
       "    }\n",
       "\n",
       "    .dataframe thead th {\n",
       "        text-align: right;\n",
       "    }\n",
       "</style>\n",
       "<table border=\"1\" class=\"dataframe\">\n",
       "  <thead>\n",
       "    <tr style=\"text-align: right;\">\n",
       "      <th></th>\n",
       "      <th>sku_id</th>\n",
       "      <th>goods_id</th>\n",
       "    </tr>\n",
       "  </thead>\n",
       "  <tbody>\n",
       "    <tr>\n",
       "      <th>0</th>\n",
       "      <td>SKi4vm9R</td>\n",
       "      <td>Gd4qzR</td>\n",
       "    </tr>\n",
       "    <tr>\n",
       "      <th>1</th>\n",
       "      <td>SKoqfFbc</td>\n",
       "      <td>GKokDh</td>\n",
       "    </tr>\n",
       "    <tr>\n",
       "      <th>2</th>\n",
       "      <td>SKYR0sAQ</td>\n",
       "      <td>GlOIaX</td>\n",
       "    </tr>\n",
       "    <tr>\n",
       "      <th>3</th>\n",
       "      <td>SK78Nimt</td>\n",
       "      <td>GJYEoa</td>\n",
       "    </tr>\n",
       "    <tr>\n",
       "      <th>4</th>\n",
       "      <td>SKP3CRsW</td>\n",
       "      <td>GJYEoa</td>\n",
       "    </tr>\n",
       "  </tbody>\n",
       "</table>\n",
       "</div>"
      ],
      "text/plain": [
       "     sku_id goods_id\n",
       "0  SKi4vm9R   Gd4qzR\n",
       "1  SKoqfFbc   GKokDh\n",
       "2  SKYR0sAQ   GlOIaX\n",
       "3  SK78Nimt   GJYEoa\n",
       "4  SKP3CRsW   GJYEoa"
      ]
     },
     "execution_count": 25,
     "metadata": {},
     "output_type": "execute_result"
    }
   ],
   "source": [
    "sku_relation.head()"
   ]
  },
  {
   "cell_type": "code",
   "execution_count": 24,
   "id": "844d4231-f6db-412d-aa86-487e13ceff42",
   "metadata": {},
   "outputs": [],
   "source": [
    "goods_id = sku_relation.groupby('goods_id')['sku_id'].nunique()"
   ]
  },
  {
   "cell_type": "code",
   "execution_count": 30,
   "id": "6ce8add5-b65e-41b8-b910-061810f73e5c",
   "metadata": {},
   "outputs": [],
   "source": [
    "a=sku_relation.describe(include=['object', 'category']).compute()"
   ]
  },
  {
   "cell_type": "code",
   "execution_count": 31,
   "id": "62384578-ff4e-4b02-a7b5-f345ea90de3b",
   "metadata": {},
   "outputs": [
    {
     "data": {
      "text/html": [
       "<div>\n",
       "<style scoped>\n",
       "    .dataframe tbody tr th:only-of-type {\n",
       "        vertical-align: middle;\n",
       "    }\n",
       "\n",
       "    .dataframe tbody tr th {\n",
       "        vertical-align: top;\n",
       "    }\n",
       "\n",
       "    .dataframe thead th {\n",
       "        text-align: right;\n",
       "    }\n",
       "</style>\n",
       "<table border=\"1\" class=\"dataframe\">\n",
       "  <thead>\n",
       "    <tr style=\"text-align: right;\">\n",
       "      <th></th>\n",
       "      <th>sku_id</th>\n",
       "      <th>goods_id</th>\n",
       "    </tr>\n",
       "  </thead>\n",
       "  <tbody>\n",
       "    <tr>\n",
       "      <th>unique</th>\n",
       "      <td>3245170</td>\n",
       "      <td>423453</td>\n",
       "    </tr>\n",
       "    <tr>\n",
       "      <th>count</th>\n",
       "      <td>3245170</td>\n",
       "      <td>3245170</td>\n",
       "    </tr>\n",
       "    <tr>\n",
       "      <th>top</th>\n",
       "      <td>SK012CKt</td>\n",
       "      <td>GAnJO3</td>\n",
       "    </tr>\n",
       "    <tr>\n",
       "      <th>freq</th>\n",
       "      <td>1</td>\n",
       "      <td>266</td>\n",
       "    </tr>\n",
       "  </tbody>\n",
       "</table>\n",
       "</div>"
      ],
      "text/plain": [
       "          sku_id goods_id\n",
       "unique   3245170   423453\n",
       "count    3245170  3245170\n",
       "top     SK012CKt   GAnJO3\n",
       "freq           1      266"
      ]
     },
     "execution_count": 31,
     "metadata": {},
     "output_type": "execute_result"
    }
   ],
   "source": [
    "a.head()"
   ]
  },
  {
   "cell_type": "code",
   "execution_count": 9,
   "id": "f3b5947c-ca9a-41e6-b1e7-061695ec7021",
   "metadata": {},
   "outputs": [
    {
     "name": "stdout",
     "output_type": "stream",
     "text": [
      "CPU times: user 0 ns, sys: 15.6 ms, total: 15.6 ms\n",
      "Wall time: 26.5 ms\n"
     ]
    }
   ],
   "source": [
    "%%time\n",
    "goodsale=dd.read_csv(\"data/goodsale.csv\", dtype='unicode')"
   ]
  },
  {
   "cell_type": "code",
   "execution_count": 10,
   "id": "8acf20bd-9388-40ae-a690-3757d560e304",
   "metadata": {},
   "outputs": [],
   "source": [
    "goodsale[\"data_date\"] = dd.to_datetime(goodsale.data_date)"
   ]
  },
  {
   "cell_type": "code",
   "execution_count": 11,
   "id": "8b0e9f44-47e2-44d2-a08b-df216b3b9578",
   "metadata": {},
   "outputs": [
    {
     "data": {
      "text/plain": [
       "(7325028, 6)"
      ]
     },
     "execution_count": 11,
     "metadata": {},
     "output_type": "execute_result"
    }
   ],
   "source": [
    "goodsale.compute().shape"
   ]
  },
  {
   "cell_type": "code",
   "execution_count": 17,
   "id": "fd095611-16f9-4ca0-8bf0-2e4f24a1fbc8",
   "metadata": {},
   "outputs": [],
   "source": [
    "goodsale=goodsale.sort_values(by='data_date').reset_index()"
   ]
  },
  {
   "cell_type": "code",
   "execution_count": 18,
   "id": "ce7a0426-c46f-4b08-8c2c-1e8fd5733aed",
   "metadata": {},
   "outputs": [
    {
     "data": {
      "text/html": [
       "<div>\n",
       "<style scoped>\n",
       "    .dataframe tbody tr th:only-of-type {\n",
       "        vertical-align: middle;\n",
       "    }\n",
       "\n",
       "    .dataframe tbody tr th {\n",
       "        vertical-align: top;\n",
       "    }\n",
       "\n",
       "    .dataframe thead th {\n",
       "        text-align: right;\n",
       "    }\n",
       "</style>\n",
       "<table border=\"1\" class=\"dataframe\">\n",
       "  <thead>\n",
       "    <tr style=\"text-align: right;\">\n",
       "      <th></th>\n",
       "      <th>index</th>\n",
       "      <th>data_date</th>\n",
       "      <th>goods_id</th>\n",
       "      <th>sku_id</th>\n",
       "      <th>goods_num</th>\n",
       "      <th>goods_price</th>\n",
       "      <th>orginal_shop_price</th>\n",
       "    </tr>\n",
       "  </thead>\n",
       "  <tbody>\n",
       "    <tr>\n",
       "      <th>0</th>\n",
       "      <td>1296476</td>\n",
       "      <td>2017-03-01</td>\n",
       "      <td>GE53KV</td>\n",
       "      <td>SKOiDyda</td>\n",
       "      <td>1</td>\n",
       "      <td>15.67</td>\n",
       "      <td>20.99</td>\n",
       "    </tr>\n",
       "    <tr>\n",
       "      <th>1</th>\n",
       "      <td>1272945</td>\n",
       "      <td>2017-03-01</td>\n",
       "      <td>GlfE68</td>\n",
       "      <td>SKju6QPZ</td>\n",
       "      <td>2</td>\n",
       "      <td>3.99</td>\n",
       "      <td>12.99</td>\n",
       "    </tr>\n",
       "    <tr>\n",
       "      <th>2</th>\n",
       "      <td>1093576</td>\n",
       "      <td>2017-03-01</td>\n",
       "      <td>GERawC</td>\n",
       "      <td>SKTv2s04</td>\n",
       "      <td>12</td>\n",
       "      <td>21.99</td>\n",
       "      <td>32.99</td>\n",
       "    </tr>\n",
       "  </tbody>\n",
       "</table>\n",
       "</div>"
      ],
      "text/plain": [
       "     index  data_date goods_id    sku_id goods_num goods_price  \\\n",
       "0  1296476 2017-03-01   GE53KV  SKOiDyda         1       15.67   \n",
       "1  1272945 2017-03-01   GlfE68  SKju6QPZ         2        3.99   \n",
       "2  1093576 2017-03-01   GERawC  SKTv2s04        12       21.99   \n",
       "\n",
       "  orginal_shop_price  \n",
       "0              20.99  \n",
       "1              12.99  \n",
       "2              32.99  "
      ]
     },
     "execution_count": 18,
     "metadata": {},
     "output_type": "execute_result"
    }
   ],
   "source": [
    "goodsale.head(3)"
   ]
  },
  {
   "cell_type": "code",
   "execution_count": 19,
   "id": "4878eb8e-3d9c-49c7-9a2a-4068e583700f",
   "metadata": {},
   "outputs": [],
   "source": [
    "goodsale = goodsale.drop('index', axis=1)"
   ]
  },
  {
   "cell_type": "code",
   "execution_count": 21,
   "id": "d59bd280-dac6-47c5-991a-5d5b0b22e0d6",
   "metadata": {},
   "outputs": [
    {
     "data": {
      "text/plain": [
       "Index(['data_date', 'goods_id', 'sku_id', 'goods_num', 'goods_price',\n",
       "       'orginal_shop_price'],\n",
       "      dtype='object')"
      ]
     },
     "execution_count": 21,
     "metadata": {},
     "output_type": "execute_result"
    }
   ],
   "source": [
    "goodsale.columns"
   ]
  },
  {
   "cell_type": "code",
   "execution_count": 87,
   "id": "5641e6fc-0dc2-4617-8a7a-cc913f333c42",
   "metadata": {},
   "outputs": [
    {
     "data": {
      "text/html": [
       "<div>\n",
       "<style scoped>\n",
       "    .dataframe tbody tr th:only-of-type {\n",
       "        vertical-align: middle;\n",
       "    }\n",
       "\n",
       "    .dataframe tbody tr th {\n",
       "        vertical-align: top;\n",
       "    }\n",
       "\n",
       "    .dataframe thead th {\n",
       "        text-align: right;\n",
       "    }\n",
       "</style>\n",
       "<table border=\"1\" class=\"dataframe\">\n",
       "  <thead>\n",
       "    <tr style=\"text-align: right;\">\n",
       "      <th></th>\n",
       "      <th>data_date</th>\n",
       "      <th>goods_id</th>\n",
       "      <th>sku_id</th>\n",
       "      <th>goods_num</th>\n",
       "      <th>goods_price</th>\n",
       "      <th>orginal_shop_price</th>\n",
       "    </tr>\n",
       "  </thead>\n",
       "  <tbody>\n",
       "    <tr>\n",
       "      <th>298183</th>\n",
       "      <td>2017-10-12</td>\n",
       "      <td>GGH3ey</td>\n",
       "      <td>SK8fmIWE</td>\n",
       "      <td>8</td>\n",
       "      <td>5.99</td>\n",
       "      <td>10.99</td>\n",
       "    </tr>\n",
       "    <tr>\n",
       "      <th>734629</th>\n",
       "      <td>2017-04-29</td>\n",
       "      <td>GX2qYG</td>\n",
       "      <td>SKiUjy3g</td>\n",
       "      <td>1</td>\n",
       "      <td>6.99</td>\n",
       "      <td>9.99</td>\n",
       "    </tr>\n",
       "    <tr>\n",
       "      <th>1565109</th>\n",
       "      <td>2017-09-15</td>\n",
       "      <td>Gq8YK7</td>\n",
       "      <td>SKO8Hnlg</td>\n",
       "      <td>1</td>\n",
       "      <td>12.99</td>\n",
       "      <td>21.99</td>\n",
       "    </tr>\n",
       "    <tr>\n",
       "      <th>1351892</th>\n",
       "      <td>2017-07-01</td>\n",
       "      <td>G51eFY</td>\n",
       "      <td>SKNcj8Lw</td>\n",
       "      <td>3</td>\n",
       "      <td>4.99</td>\n",
       "      <td>8.99</td>\n",
       "    </tr>\n",
       "    <tr>\n",
       "      <th>457210</th>\n",
       "      <td>2018-01-08</td>\n",
       "      <td>GyeuaL</td>\n",
       "      <td>SK952OtW</td>\n",
       "      <td>1</td>\n",
       "      <td>11.99</td>\n",
       "      <td>17.99</td>\n",
       "    </tr>\n",
       "    <tr>\n",
       "      <th>...</th>\n",
       "      <td>...</td>\n",
       "      <td>...</td>\n",
       "      <td>...</td>\n",
       "      <td>...</td>\n",
       "      <td>...</td>\n",
       "      <td>...</td>\n",
       "    </tr>\n",
       "    <tr>\n",
       "      <th>686466</th>\n",
       "      <td>2017-10-17</td>\n",
       "      <td>GXHlkh</td>\n",
       "      <td>SKuPyTja</td>\n",
       "      <td>3</td>\n",
       "      <td>6.99</td>\n",
       "      <td>13.99</td>\n",
       "    </tr>\n",
       "    <tr>\n",
       "      <th>307525</th>\n",
       "      <td>2017-06-01</td>\n",
       "      <td>GXDCW1</td>\n",
       "      <td>SKw93E1P</td>\n",
       "      <td>7</td>\n",
       "      <td>4.96</td>\n",
       "      <td>7.99</td>\n",
       "    </tr>\n",
       "    <tr>\n",
       "      <th>604063</th>\n",
       "      <td>2018-01-07</td>\n",
       "      <td>GAbPuM</td>\n",
       "      <td>SKlkA5ax</td>\n",
       "      <td>1</td>\n",
       "      <td>1.99</td>\n",
       "      <td>4.99</td>\n",
       "    </tr>\n",
       "    <tr>\n",
       "      <th>286943</th>\n",
       "      <td>2018-01-25</td>\n",
       "      <td>GXArtf</td>\n",
       "      <td>SK1PC2X5</td>\n",
       "      <td>1</td>\n",
       "      <td>8.99</td>\n",
       "      <td>13.99</td>\n",
       "    </tr>\n",
       "    <tr>\n",
       "      <th>67873</th>\n",
       "      <td>2017-12-17</td>\n",
       "      <td>GIiVKO</td>\n",
       "      <td>SKNt6KSu</td>\n",
       "      <td>1</td>\n",
       "      <td>2.99</td>\n",
       "      <td>8.99</td>\n",
       "    </tr>\n",
       "  </tbody>\n",
       "</table>\n",
       "<p>73249 rows × 6 columns</p>\n",
       "</div>"
      ],
      "text/plain": [
       "         data_date goods_id    sku_id goods_num goods_price orginal_shop_price\n",
       "298183  2017-10-12   GGH3ey  SK8fmIWE         8        5.99              10.99\n",
       "734629  2017-04-29   GX2qYG  SKiUjy3g         1        6.99               9.99\n",
       "1565109 2017-09-15   Gq8YK7  SKO8Hnlg         1       12.99              21.99\n",
       "1351892 2017-07-01   G51eFY  SKNcj8Lw         3        4.99               8.99\n",
       "457210  2018-01-08   GyeuaL  SK952OtW         1       11.99              17.99\n",
       "...            ...      ...       ...       ...         ...                ...\n",
       "686466  2017-10-17   GXHlkh  SKuPyTja         3        6.99              13.99\n",
       "307525  2017-06-01   GXDCW1  SKw93E1P         7        4.96               7.99\n",
       "604063  2018-01-07   GAbPuM  SKlkA5ax         1        1.99               4.99\n",
       "286943  2018-01-25   GXArtf  SK1PC2X5         1        8.99              13.99\n",
       "67873   2017-12-17   GIiVKO  SKNt6KSu         1        2.99               8.99\n",
       "\n",
       "[73249 rows x 6 columns]"
      ]
     },
     "execution_count": 87,
     "metadata": {},
     "output_type": "execute_result"
    }
   ],
   "source": [
    "goodsale.sample(frac=0.01).compute()"
   ]
  },
  {
   "cell_type": "code",
   "execution_count": 69,
   "id": "700bcddb-b13e-4d8d-ba27-8c013599df58",
   "metadata": {},
   "outputs": [
    {
     "name": "stdout",
     "output_type": "stream",
     "text": [
      "CPU times: user 46.9 ms, sys: 1.11 s, total: 1.16 s\n",
      "Wall time: 6.54 s\n"
     ]
    },
    {
     "data": {
      "image/png": "[encoded data removed]",
      "text/plain": [
       "<IPython.core.display.Image object>"
      ]
     },
     "execution_count": 69,
     "metadata": {},
     "output_type": "execute_result"
    }
   ],
   "source": [
    "%%time\n",
    "goodsale.isnull().sum().visualize()"
   ]
  },
  {
   "cell_type": "code",
   "execution_count": 71,
   "id": "470b23c0-74a3-4f12-9a04-7e4bf76a79ea",
   "metadata": {},
   "outputs": [
    {
     "data": {
      "text/plain": [
       "data_date             0\n",
       "goods_id              0\n",
       "sku_id                0\n",
       "goods_num             0\n",
       "goods_price           0\n",
       "orginal_shop_price    0\n",
       "dtype: int64"
      ]
     },
     "execution_count": 71,
     "metadata": {},
     "output_type": "execute_result"
    }
   ],
   "source": [
    "goodsale.isnull().sum().compute()"
   ]
  },
  {
   "cell_type": "code",
   "execution_count": 97,
   "id": "af0aab9f-9615-43ea-b4a8-f6ce240adbb8",
   "metadata": {},
   "outputs": [
    {
     "name": "stdout",
     "output_type": "stream",
     "text": [
      "CPU times: user 31.2 ms, sys: 15.6 ms, total: 46.9 ms\n",
      "Wall time: 22.3 ms\n"
     ]
    }
   ],
   "source": [
    "%%time\n",
    "goodsdaily=dd.read_csv(\"data/goodsdaily.csv\",  dtype='unicode')"
   ]
  },
  {
   "cell_type": "code",
   "execution_count": 98,
   "id": "0ea23e99-c602-49ba-a82d-2d5c07a9e85a",
   "metadata": {},
   "outputs": [],
   "source": [
    "goodsdaily[\"data_date\"]=dd.to_datetime(goodsdaily.data_date)"
   ]
  },
  {
   "cell_type": "code",
   "execution_count": 43,
   "id": "64a15b0f-7dc3-4957-90d2-ef3641488b31",
   "metadata": {},
   "outputs": [
    {
     "data": {
      "text/plain": [
       "(35201588, 7)"
      ]
     },
     "execution_count": 43,
     "metadata": {},
     "output_type": "execute_result"
    }
   ],
   "source": [
    "goodsdaily.compute().shape"
   ]
  },
  {
   "cell_type": "code",
   "execution_count": 99,
   "id": "43d5bc75-585d-40b2-8a6f-e99c8f0ad768",
   "metadata": {},
   "outputs": [
    {
     "data": {
      "text/html": [
       "<div>\n",
       "<style scoped>\n",
       "    .dataframe tbody tr th:only-of-type {\n",
       "        vertical-align: middle;\n",
       "    }\n",
       "\n",
       "    .dataframe tbody tr th {\n",
       "        vertical-align: top;\n",
       "    }\n",
       "\n",
       "    .dataframe thead th {\n",
       "        text-align: right;\n",
       "    }\n",
       "</style>\n",
       "<table border=\"1\" class=\"dataframe\">\n",
       "  <thead>\n",
       "    <tr style=\"text-align: right;\">\n",
       "      <th></th>\n",
       "      <th>data_date</th>\n",
       "      <th>goods_id</th>\n",
       "      <th>goods_click</th>\n",
       "      <th>cart_click</th>\n",
       "      <th>favorites_click</th>\n",
       "      <th>sales_uv</th>\n",
       "      <th>onsale_days</th>\n",
       "    </tr>\n",
       "  </thead>\n",
       "  <tbody>\n",
       "    <tr>\n",
       "      <th>0</th>\n",
       "      <td>2017-08-23</td>\n",
       "      <td>G8OeZY</td>\n",
       "      <td>72</td>\n",
       "      <td>2</td>\n",
       "      <td>3</td>\n",
       "      <td>0</td>\n",
       "      <td>6</td>\n",
       "    </tr>\n",
       "    <tr>\n",
       "      <th>1</th>\n",
       "      <td>2017-08-23</td>\n",
       "      <td>Gjytr2</td>\n",
       "      <td>96</td>\n",
       "      <td>0</td>\n",
       "      <td>1</td>\n",
       "      <td>0</td>\n",
       "      <td>336</td>\n",
       "    </tr>\n",
       "    <tr>\n",
       "      <th>2</th>\n",
       "      <td>2017-08-23</td>\n",
       "      <td>GR0SgC</td>\n",
       "      <td>15</td>\n",
       "      <td>0</td>\n",
       "      <td>0</td>\n",
       "      <td>0</td>\n",
       "      <td>98</td>\n",
       "    </tr>\n",
       "    <tr>\n",
       "      <th>3</th>\n",
       "      <td>2017-08-23</td>\n",
       "      <td>GMkqxN</td>\n",
       "      <td>9</td>\n",
       "      <td>0</td>\n",
       "      <td>0</td>\n",
       "      <td>0</td>\n",
       "      <td>13</td>\n",
       "    </tr>\n",
       "    <tr>\n",
       "      <th>4</th>\n",
       "      <td>2017-08-23</td>\n",
       "      <td>GuRXYe</td>\n",
       "      <td>538</td>\n",
       "      <td>5</td>\n",
       "      <td>9</td>\n",
       "      <td>2</td>\n",
       "      <td>69</td>\n",
       "    </tr>\n",
       "  </tbody>\n",
       "</table>\n",
       "</div>"
      ],
      "text/plain": [
       "   data_date goods_id goods_click cart_click favorites_click sales_uv  \\\n",
       "0 2017-08-23   G8OeZY          72          2               3        0   \n",
       "1 2017-08-23   Gjytr2          96          0               1        0   \n",
       "2 2017-08-23   GR0SgC          15          0               0        0   \n",
       "3 2017-08-23   GMkqxN           9          0               0        0   \n",
       "4 2017-08-23   GuRXYe         538          5               9        2   \n",
       "\n",
       "  onsale_days  \n",
       "0           6  \n",
       "1         336  \n",
       "2          98  \n",
       "3          13  \n",
       "4          69  "
      ]
     },
     "execution_count": 99,
     "metadata": {},
     "output_type": "execute_result"
    }
   ],
   "source": [
    "goodsdaily.head()"
   ]
  },
  {
   "cell_type": "code",
   "execution_count": 44,
   "id": "6630afe6-f692-4f3d-a5df-42d5ae8ef5f4",
   "metadata": {},
   "outputs": [
    {
     "name": "stdout",
     "output_type": "stream",
     "text": [
      "CPU times: user 62.5 ms, sys: 15.6 ms, total: 78.1 ms\n",
      "Wall time: 115 ms\n"
     ]
    }
   ],
   "source": [
    "%%time\n",
    "goodsinfo=dd.read_csv(\"data/goodsinfo.csv\")"
   ]
  },
  {
   "cell_type": "code",
   "execution_count": 45,
   "id": "467c6242-5dec-4ff0-ab38-8b855ff07bfc",
   "metadata": {},
   "outputs": [
    {
     "name": "stdout",
     "output_type": "stream",
     "text": [
      "CPU times: user 391 ms, sys: 188 ms, total: 578 ms\n",
      "Wall time: 654 ms\n"
     ]
    },
    {
     "data": {
      "text/plain": [
       "(423452, 10)"
      ]
     },
     "execution_count": 45,
     "metadata": {},
     "output_type": "execute_result"
    }
   ],
   "source": [
    "%%time\n",
    "goodsinfo.compute().shape"
   ]
  },
  {
   "cell_type": "code",
   "execution_count": 46,
   "id": "6e2fb4f6-08ca-47d9-8d56-2e3c15c0f191",
   "metadata": {},
   "outputs": [
    {
     "data": {
      "text/html": [
       "<div>\n",
       "<style scoped>\n",
       "    .dataframe tbody tr th:only-of-type {\n",
       "        vertical-align: middle;\n",
       "    }\n",
       "\n",
       "    .dataframe tbody tr th {\n",
       "        vertical-align: top;\n",
       "    }\n",
       "\n",
       "    .dataframe thead th {\n",
       "        text-align: right;\n",
       "    }\n",
       "</style>\n",
       "<table border=\"1\" class=\"dataframe\">\n",
       "  <thead>\n",
       "    <tr style=\"text-align: right;\">\n",
       "      <th></th>\n",
       "      <th>goods_id</th>\n",
       "      <th>cat_level1_id</th>\n",
       "      <th>cat_level2_id</th>\n",
       "      <th>cat_level3_id</th>\n",
       "      <th>cat_level4_id</th>\n",
       "      <th>cat_level5_id</th>\n",
       "      <th>cat_level6_id</th>\n",
       "      <th>cat_level7_id</th>\n",
       "      <th>goods_season</th>\n",
       "      <th>brand_id</th>\n",
       "    </tr>\n",
       "  </thead>\n",
       "  <tbody>\n",
       "    <tr>\n",
       "      <th>0</th>\n",
       "      <td>GBLrYn</td>\n",
       "      <td>2</td>\n",
       "      <td>6</td>\n",
       "      <td>-1</td>\n",
       "      <td>-1</td>\n",
       "      <td>-1</td>\n",
       "      <td>-1</td>\n",
       "      <td>-1</td>\n",
       "      <td>0</td>\n",
       "      <td>0</td>\n",
       "    </tr>\n",
       "    <tr>\n",
       "      <th>1</th>\n",
       "      <td>G2OzvE</td>\n",
       "      <td>35</td>\n",
       "      <td>36</td>\n",
       "      <td>-1</td>\n",
       "      <td>-1</td>\n",
       "      <td>-1</td>\n",
       "      <td>-1</td>\n",
       "      <td>-1</td>\n",
       "      <td>6</td>\n",
       "      <td>74</td>\n",
       "    </tr>\n",
       "    <tr>\n",
       "      <th>2</th>\n",
       "      <td>GIa1pG</td>\n",
       "      <td>2</td>\n",
       "      <td>6500</td>\n",
       "      <td>4798</td>\n",
       "      <td>-1</td>\n",
       "      <td>-1</td>\n",
       "      <td>-1</td>\n",
       "      <td>-1</td>\n",
       "      <td>0</td>\n",
       "      <td>55</td>\n",
       "    </tr>\n",
       "    <tr>\n",
       "      <th>3</th>\n",
       "      <td>GR7cM4</td>\n",
       "      <td>31</td>\n",
       "      <td>50</td>\n",
       "      <td>-1</td>\n",
       "      <td>-1</td>\n",
       "      <td>-1</td>\n",
       "      <td>-1</td>\n",
       "      <td>-1</td>\n",
       "      <td>0</td>\n",
       "      <td>0</td>\n",
       "    </tr>\n",
       "    <tr>\n",
       "      <th>4</th>\n",
       "      <td>GRQgu3</td>\n",
       "      <td>2</td>\n",
       "      <td>6500</td>\n",
       "      <td>4798</td>\n",
       "      <td>-1</td>\n",
       "      <td>-1</td>\n",
       "      <td>-1</td>\n",
       "      <td>-1</td>\n",
       "      <td>2</td>\n",
       "      <td>31</td>\n",
       "    </tr>\n",
       "  </tbody>\n",
       "</table>\n",
       "</div>"
      ],
      "text/plain": [
       "  goods_id  cat_level1_id  cat_level2_id  cat_level3_id  cat_level4_id  \\\n",
       "0   GBLrYn              2              6             -1             -1   \n",
       "1   G2OzvE             35             36             -1             -1   \n",
       "2   GIa1pG              2           6500           4798             -1   \n",
       "3   GR7cM4             31             50             -1             -1   \n",
       "4   GRQgu3              2           6500           4798             -1   \n",
       "\n",
       "   cat_level5_id  cat_level6_id  cat_level7_id  goods_season  brand_id  \n",
       "0             -1             -1             -1             0         0  \n",
       "1             -1             -1             -1             6        74  \n",
       "2             -1             -1             -1             0        55  \n",
       "3             -1             -1             -1             0         0  \n",
       "4             -1             -1             -1             2        31  "
      ]
     },
     "execution_count": 46,
     "metadata": {},
     "output_type": "execute_result"
    }
   ],
   "source": [
    "goodsinfo.head()"
   ]
  },
  {
   "cell_type": "code",
   "execution_count": 100,
   "id": "18bc77ef-1083-455e-901b-7065efbaa4c4",
   "metadata": {},
   "outputs": [
    {
     "name": "stdout",
     "output_type": "stream",
     "text": [
      "CPU times: user 0 ns, sys: 0 ns, total: 0 ns\n",
      "Wall time: 12.8 ms\n"
     ]
    }
   ],
   "source": [
    "%%time\n",
    "marketing=dd.read_csv(\"data/marketing.csv\", dtype='unicode')"
   ]
  },
  {
   "cell_type": "code",
   "execution_count": 48,
   "id": "6f20b98e-86f7-40ee-bbdc-9a8fb8587ded",
   "metadata": {},
   "outputs": [
    {
     "data": {
      "text/plain": [
       "(416, 3)"
      ]
     },
     "execution_count": 48,
     "metadata": {},
     "output_type": "execute_result"
    }
   ],
   "source": [
    "marketing.compute().shape"
   ]
  },
  {
   "cell_type": "code",
   "execution_count": 101,
   "id": "6424b1eb-a94f-4769-a874-b93a4d1e5a57",
   "metadata": {},
   "outputs": [],
   "source": [
    "marketing[\"data_date\"] = dd.to_datetime(marketing.data_date)"
   ]
  },
  {
   "cell_type": "code",
   "execution_count": 102,
   "id": "d339039c-b2c1-414f-8b8f-0930d057ac07",
   "metadata": {},
   "outputs": [
    {
     "data": {
      "text/html": [
       "<div>\n",
       "<style scoped>\n",
       "    .dataframe tbody tr th:only-of-type {\n",
       "        vertical-align: middle;\n",
       "    }\n",
       "\n",
       "    .dataframe tbody tr th {\n",
       "        vertical-align: top;\n",
       "    }\n",
       "\n",
       "    .dataframe thead th {\n",
       "        text-align: right;\n",
       "    }\n",
       "</style>\n",
       "<table border=\"1\" class=\"dataframe\">\n",
       "  <thead>\n",
       "    <tr style=\"text-align: right;\">\n",
       "      <th></th>\n",
       "      <th>data_date</th>\n",
       "      <th>marketing</th>\n",
       "      <th>plan</th>\n",
       "    </tr>\n",
       "  </thead>\n",
       "  <tbody>\n",
       "    <tr>\n",
       "      <th>411</th>\n",
       "      <td>2018-05-31</td>\n",
       "      <td>5</td>\n",
       "      <td>3</td>\n",
       "    </tr>\n",
       "    <tr>\n",
       "      <th>412</th>\n",
       "      <td>2018-06-01</td>\n",
       "      <td>5</td>\n",
       "      <td>3</td>\n",
       "    </tr>\n",
       "    <tr>\n",
       "      <th>413</th>\n",
       "      <td>2018-06-02</td>\n",
       "      <td>5</td>\n",
       "      <td>3</td>\n",
       "    </tr>\n",
       "    <tr>\n",
       "      <th>414</th>\n",
       "      <td>2018-06-03</td>\n",
       "      <td>5</td>\n",
       "      <td>3</td>\n",
       "    </tr>\n",
       "    <tr>\n",
       "      <th>415</th>\n",
       "      <td>2018-06-04</td>\n",
       "      <td>5</td>\n",
       "      <td>3</td>\n",
       "    </tr>\n",
       "  </tbody>\n",
       "</table>\n",
       "</div>"
      ],
      "text/plain": [
       "     data_date marketing plan\n",
       "411 2018-05-31         5    3\n",
       "412 2018-06-01         5    3\n",
       "413 2018-06-02         5    3\n",
       "414 2018-06-03         5    3\n",
       "415 2018-06-04         5    3"
      ]
     },
     "execution_count": 102,
     "metadata": {},
     "output_type": "execute_result"
    }
   ],
   "source": [
    "marketing.tail()"
   ]
  },
  {
   "cell_type": "code",
   "execution_count": 64,
   "id": "7ae004b7-9199-4d70-8146-76a63a82829d",
   "metadata": {},
   "outputs": [
    {
     "name": "stdout",
     "output_type": "stream",
     "text": [
      "CPU times: user 15.6 ms, sys: 31.2 ms, total: 46.9 ms\n",
      "Wall time: 36.8 ms\n"
     ]
    }
   ],
   "source": [
    "%%time\n",
    "submit_example=dd.read_csv(\"data/submit_example.csv\")"
   ]
  },
  {
   "cell_type": "code",
   "execution_count": 65,
   "id": "9a073170-8285-4bf0-9bce-b4d3f3b0140a",
   "metadata": {},
   "outputs": [
    {
     "data": {
      "text/plain": [
       "(104510, 6)"
      ]
     },
     "execution_count": 65,
     "metadata": {},
     "output_type": "execute_result"
    }
   ],
   "source": [
    "submit_example.compute().shape"
   ]
  },
  {
   "cell_type": "code",
   "execution_count": 67,
   "id": "5e03f77d-7d22-41b1-839f-f236c2d0ed56",
   "metadata": {},
   "outputs": [
    {
     "data": {
      "text/html": [
       "<div>\n",
       "<style scoped>\n",
       "    .dataframe tbody tr th:only-of-type {\n",
       "        vertical-align: middle;\n",
       "    }\n",
       "\n",
       "    .dataframe tbody tr th {\n",
       "        vertical-align: top;\n",
       "    }\n",
       "\n",
       "    .dataframe thead th {\n",
       "        text-align: right;\n",
       "    }\n",
       "</style>\n",
       "<table border=\"1\" class=\"dataframe\">\n",
       "  <thead>\n",
       "    <tr style=\"text-align: right;\">\n",
       "      <th></th>\n",
       "      <th>sku_id</th>\n",
       "      <th>week1</th>\n",
       "      <th>week2</th>\n",
       "      <th>week3</th>\n",
       "      <th>week4</th>\n",
       "      <th>week5</th>\n",
       "    </tr>\n",
       "  </thead>\n",
       "  <tbody>\n",
       "    <tr>\n",
       "      <th>104505</th>\n",
       "      <td>SKteg3pG</td>\n",
       "      <td>0</td>\n",
       "      <td>0</td>\n",
       "      <td>0</td>\n",
       "      <td>0</td>\n",
       "      <td>0</td>\n",
       "    </tr>\n",
       "    <tr>\n",
       "      <th>104506</th>\n",
       "      <td>SKcE2nZk</td>\n",
       "      <td>0</td>\n",
       "      <td>0</td>\n",
       "      <td>0</td>\n",
       "      <td>0</td>\n",
       "      <td>0</td>\n",
       "    </tr>\n",
       "    <tr>\n",
       "      <th>104507</th>\n",
       "      <td>SKCjePQS</td>\n",
       "      <td>0</td>\n",
       "      <td>0</td>\n",
       "      <td>0</td>\n",
       "      <td>0</td>\n",
       "      <td>0</td>\n",
       "    </tr>\n",
       "    <tr>\n",
       "      <th>104508</th>\n",
       "      <td>SK0IHnm1</td>\n",
       "      <td>0</td>\n",
       "      <td>0</td>\n",
       "      <td>0</td>\n",
       "      <td>0</td>\n",
       "      <td>0</td>\n",
       "    </tr>\n",
       "    <tr>\n",
       "      <th>104509</th>\n",
       "      <td>SK4XSYtP</td>\n",
       "      <td>0</td>\n",
       "      <td>0</td>\n",
       "      <td>0</td>\n",
       "      <td>0</td>\n",
       "      <td>0</td>\n",
       "    </tr>\n",
       "  </tbody>\n",
       "</table>\n",
       "</div>"
      ],
      "text/plain": [
       "          sku_id  week1  week2  week3  week4  week5\n",
       "104505  SKteg3pG      0      0      0      0      0\n",
       "104506  SKcE2nZk      0      0      0      0      0\n",
       "104507  SKCjePQS      0      0      0      0      0\n",
       "104508  SK0IHnm1      0      0      0      0      0\n",
       "104509  SK4XSYtP      0      0      0      0      0"
      ]
     },
     "execution_count": 67,
     "metadata": {},
     "output_type": "execute_result"
    }
   ],
   "source": [
    "submit_example.tail()"
   ]
  },
  {
   "cell_type": "code",
   "execution_count": null,
   "id": "b1183a18-3997-4e3e-a5f1-ac25a30cb8c5",
   "metadata": {},
   "outputs": [],
   "source": []
  },
  {
   "cell_type": "code",
   "execution_count": 25,
   "id": "7c0ea0f7-777f-42d2-958a-3ce5e783879c",
   "metadata": {},
   "outputs": [],
   "source": [
    "dask_files=dd.read_csv(\"data/*.csv\")"
   ]
  },
  {
   "cell_type": "code",
   "execution_count": 26,
   "id": "1887f1ce-5bf3-4c3a-8bb2-13c6b2b3f50a",
   "metadata": {},
   "outputs": [
    {
     "data": {
      "text/html": [
       "<div><strong>Dask DataFrame Structure:</strong></div>\n",
       "<div>\n",
       "<style scoped>\n",
       "    .dataframe tbody tr th:only-of-type {\n",
       "        vertical-align: middle;\n",
       "    }\n",
       "\n",
       "    .dataframe tbody tr th {\n",
       "        vertical-align: top;\n",
       "    }\n",
       "\n",
       "    .dataframe thead th {\n",
       "        text-align: right;\n",
       "    }\n",
       "</style>\n",
       "<table border=\"1\" class=\"dataframe\">\n",
       "  <thead>\n",
       "    <tr style=\"text-align: right;\">\n",
       "      <th></th>\n",
       "      <th>data_date</th>\n",
       "    </tr>\n",
       "    <tr>\n",
       "      <th>npartitions=28</th>\n",
       "      <th></th>\n",
       "    </tr>\n",
       "  </thead>\n",
       "  <tbody>\n",
       "    <tr>\n",
       "      <th></th>\n",
       "      <td>object</td>\n",
       "    </tr>\n",
       "    <tr>\n",
       "      <th></th>\n",
       "      <td>...</td>\n",
       "    </tr>\n",
       "    <tr>\n",
       "      <th>...</th>\n",
       "      <td>...</td>\n",
       "    </tr>\n",
       "    <tr>\n",
       "      <th></th>\n",
       "      <td>...</td>\n",
       "    </tr>\n",
       "    <tr>\n",
       "      <th></th>\n",
       "      <td>...</td>\n",
       "    </tr>\n",
       "  </tbody>\n",
       "</table>\n",
       "</div>\n",
       "<div>Dask Name: read-csv, 28 tasks</div>"
      ],
      "text/plain": [
       "Dask DataFrame Structure:\n",
       "               data_date\n",
       "npartitions=28          \n",
       "                  object\n",
       "                     ...\n",
       "...                  ...\n",
       "                     ...\n",
       "                     ...\n",
       "Dask Name: read-csv, 28 tasks"
      ]
     },
     "execution_count": 26,
     "metadata": {},
     "output_type": "execute_result"
    }
   ],
   "source": [
    "dask_files"
   ]
  },
  {
   "cell_type": "code",
   "execution_count": 29,
   "id": "db7cfaa3-6af0-4ac6-88a5-dabe51ed841f",
   "metadata": {},
   "outputs": [],
   "source": [
    "dask_all_file=dd.read_csv(filenames, parse_dates={\"Dates\":[0]})"
   ]
  },
  {
   "cell_type": "code",
   "execution_count": 30,
   "id": "859d848b-126e-4e09-b43d-26ba66ed99a0",
   "metadata": {},
   "outputs": [
    {
     "data": {
      "text/html": [
       "<div><strong>Dask DataFrame Structure:</strong></div>\n",
       "<div>\n",
       "<style scoped>\n",
       "    .dataframe tbody tr th:only-of-type {\n",
       "        vertical-align: middle;\n",
       "    }\n",
       "\n",
       "    .dataframe tbody tr th {\n",
       "        vertical-align: top;\n",
       "    }\n",
       "\n",
       "    .dataframe thead th {\n",
       "        text-align: right;\n",
       "    }\n",
       "</style>\n",
       "<table border=\"1\" class=\"dataframe\">\n",
       "  <thead>\n",
       "    <tr style=\"text-align: right;\">\n",
       "      <th></th>\n",
       "      <th>Dates</th>\n",
       "    </tr>\n",
       "    <tr>\n",
       "      <th>npartitions=28</th>\n",
       "      <th></th>\n",
       "    </tr>\n",
       "  </thead>\n",
       "  <tbody>\n",
       "    <tr>\n",
       "      <th></th>\n",
       "      <td>datetime64[ns]</td>\n",
       "    </tr>\n",
       "    <tr>\n",
       "      <th></th>\n",
       "      <td>...</td>\n",
       "    </tr>\n",
       "    <tr>\n",
       "      <th>...</th>\n",
       "      <td>...</td>\n",
       "    </tr>\n",
       "    <tr>\n",
       "      <th></th>\n",
       "      <td>...</td>\n",
       "    </tr>\n",
       "    <tr>\n",
       "      <th></th>\n",
       "      <td>...</td>\n",
       "    </tr>\n",
       "  </tbody>\n",
       "</table>\n",
       "</div>\n",
       "<div>Dask Name: read-csv, 28 tasks</div>"
      ],
      "text/plain": [
       "Dask DataFrame Structure:\n",
       "                         Dates\n",
       "npartitions=28                \n",
       "                datetime64[ns]\n",
       "                           ...\n",
       "...                        ...\n",
       "                           ...\n",
       "                           ...\n",
       "Dask Name: read-csv, 28 tasks"
      ]
     },
     "execution_count": 30,
     "metadata": {},
     "output_type": "execute_result"
    }
   ],
   "source": [
    "dask_all_file"
   ]
  },
  {
   "cell_type": "code",
   "execution_count": null,
   "id": "33f46f1f-c232-4a3c-8b38-0895973f3d43",
   "metadata": {},
   "outputs": [],
   "source": []
  }
 ],
 "metadata": {
  "kernelspec": {
   "display_name": "Python 3",
   "language": "python",
   "name": "python3"
  },
  "language_info": {
   "codemirror_mode": {
    "name": "ipython",
    "version": 3
   },
   "file_extension": ".py",
   "mimetype": "text/x-python",
   "name": "python",
   "nbconvert_exporter": "python",
   "pygments_lexer": "ipython3",
   "version": "3.9.7"
  }
 },
 "nbformat": 4,
 "nbformat_minor": 5
}
